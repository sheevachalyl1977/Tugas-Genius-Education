{
 "cells": [
  {
   "cell_type": "code",
   "execution_count": 5,
   "id": "ef5c8794",
   "metadata": {},
   "outputs": [],
   "source": [
    "def cari_kontak():\n",
    "    print('')\n",
    "    if (len(kontak)==0):\n",
    "        print('Kontak Masih Kosong, silahkan menambahkan kontak!')\n",
    "        print('')\n",
    "    else:\n",
    "        found_kontak = []\n",
    "        cari = input('Mencari berdasarkan apa? (nama/nomor):')\n",
    "        if(cari.lower() == \"nama\"):\n",
    "            nama = input('Masukkan Nama kontak: ')\n",
    "            for i in kontak :\n",
    "                if(i.nama.lower() == nama.lower()):\n",
    "                    found_kontak.append(i)\n",
    "            if (len(found_kontak) ==0):\n",
    "                    print(\"Tidak Ditemukan kontak\")\n",
    "            else:\n",
    "                    print(\"Berikut hasil kontak berdasarkan nama:\")\n",
    "                    print('')\n",
    "                    print('|No.\\t\\t|Nomor Ponsel\\t|')\n",
    "                    i=1\n",
    "                    for j in found_kontak:\n",
    "                        print(f'|{i}.\\t|{j.nama}\\t\\t|{j.nomor}\\t|')\n",
    "                        i+=1\n",
    "                    print('')\n",
    "        elif(cari.lower() == \"nomor\"):\n",
    "            nomor = input('Masukkan Nomor kontak: ')\n",
    "            for i in range (0,len(kontak)):\n",
    "                if(kontak[i].nomor == int(nomor)):\n",
    "                    found_kontak.append(kontak[i])\n",
    "            if (len(found_kontak)==0):\n",
    "                    print(\"Tidak Ditemukan kontak\")\n",
    "            else:\n",
    "                    print(\"Berikut hasil kontak berdasarkan nomor: \")\n",
    "                    print('')\n",
    "                    print('No.\\t|Nama\\t\\t|Nomor Ponsel\\t|')\n",
    "                    i=1\n",
    "                    for j in found_kontak:\n",
    "                        print(f'|{i}.\\t|{j.nama}\\t\\t|{j.nomor}\\t')\n",
    "                        i+=1\n",
    "                    print('')\n",
    "        else:\n",
    "            print('Tidak dapat mencari diluar kategori tersebut')       "
   ]
  }
 ],
 "metadata": {
  "kernelspec": {
   "display_name": "Python 3 (ipykernel)",
   "language": "python",
   "name": "python3"
  },
  "language_info": {
   "codemirror_mode": {
    "name": "ipython",
    "version": 3
   },
   "file_extension": ".py",
   "mimetype": "text/x-python",
   "name": "python",
   "nbconvert_exporter": "python",
   "pygments_lexer": "ipython3",
   "version": "3.9.12"
  }
 },
 "nbformat": 4,
 "nbformat_minor": 5
}
