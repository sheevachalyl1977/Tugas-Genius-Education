{
 "cells": [
  {
   "cell_type": "code",
   "execution_count": 5,
   "id": "3689fa3f",
   "metadata": {},
   "outputs": [],
   "source": [
    "def edit_kontak():\n",
    "    print('')\n",
    "    if(len(kontak)==0):\n",
    "        print('Kontak Masih Kosong, silahkan menambahkan kontak!')\n",
    "        prin('')\n",
    "    else:\n",
    "        edit = int(input('Masukkan Nomor Urut Kontak: '))\n",
    "        namaKontak = input('Nama\\t: ')\n",
    "        nomorKontak = int(input('Nomor\\t: '))\n",
    "        kontakBaru = Kontak(namaKontak, nomorKontak)\n",
    "        kontak[edit-1] = kontakBaru\n",
    "        print('')\n",
    "        print(f'Kontak dengan urutan ke-{edit}, Berhasil di edit!\\n')"
   ]
  }
 ],
 "metadata": {
  "kernelspec": {
   "display_name": "Python 3 (ipykernel)",
   "language": "python",
   "name": "python3"
  },
  "language_info": {
   "codemirror_mode": {
    "name": "ipython",
    "version": 3
   },
   "file_extension": ".py",
   "mimetype": "text/x-python",
   "name": "python",
   "nbconvert_exporter": "python",
   "pygments_lexer": "ipython3",
   "version": "3.9.12"
  }
 },
 "nbformat": 4,
 "nbformat_minor": 5
}
